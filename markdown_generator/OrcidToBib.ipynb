{
 "cells": [
  {
   "cell_type": "code",
   "execution_count": 16,
   "id": "01f0c5c2-619a-48e0-bb7c-e5e0be009f0e",
   "metadata": {},
   "outputs": [],
   "source": [
    "orcid = '0009-0002-8699-4087' # Fill your orcid here"
   ]
  },
  {
   "cell_type": "code",
   "execution_count": 17,
   "id": "2fe4bc4e-4574-4322-8b18-0c4d33a749fa",
   "metadata": {},
   "outputs": [],
   "source": [
    "import requests"
   ]
  },
  {
   "cell_type": "markdown",
   "id": "44a8b6cd-4034-4fc4-85a8-e3431dc564f1",
   "metadata": {},
   "source": [
    "We use the `/works` api to list all works related to the orcid. This gives a summary of all works, so citation information is not included. We collect the `put-code` of all works to retrieve the citation information later."
   ]
  },
  {
   "cell_type": "code",
   "execution_count": 18,
   "id": "3b04331e-4149-4ca3-a0aa-89e3ba892723",
   "metadata": {},
   "outputs": [],
   "source": [
    "response = requests.get('https://pub.orcid.org/v3.0/{}/works'.format(orcid),\n",
    "                        headers={\"Accept\": \"application/orcid+json\" })\n",
    "record = response.json()"
   ]
  },
  {
   "cell_type": "code",
   "execution_count": 19,
   "id": "16f7c42d-623b-421a-8d87-bbb389313e3b",
   "metadata": {
    "scrolled": true
   },
   "outputs": [],
   "source": [
    "put_codes = []\n",
    "for work in record['group']:\n",
    "    put_code = work['work-summary'][0]['put-code']\n",
    "    put_codes.append(put_code)\n",
    "put_code = put_codes[0]"
   ]
  },
  {
   "cell_type": "markdown",
   "id": "25e5d2aa-5233-486e-abce-a0d07a36c5ce",
   "metadata": {},
   "source": [
    "We use the `/<orcid>/work/<put-code>` endpoint to retrieve the citation information for each record."
   ]
  },
  {
   "cell_type": "code",
   "execution_count": 20,
   "id": "dd797a16-0d91-4271-8e1e-b82579a07e45",
   "metadata": {},
   "outputs": [],
   "source": [
    "citations = []\n",
    "for put_code in put_codes:\n",
    "    response = requests.get('https://pub.orcid.org/v3.0/{}/work/{}'.format(orcid, put_code),\n",
    "                            headers={\"Accept\": \"application/orcid+json\" })\n",
    "    work = response.json()\n",
    "    if work['citation'] is not None:\n",
    "        citations.append(work['citation']['citation-value'])"
   ]
  },
  {
   "cell_type": "code",
   "execution_count": 21,
   "id": "2ca1eca6",
   "metadata": {},
   "outputs": [
    {
     "name": "stdout",
     "output_type": "stream",
     "text": [
      "[dedup] Zhai2024 (#1) → Zhai2024a\n",
      "[dedup] Zhai2024 (#2) → Zhai2024b\n",
      "[dedup] Zhai2024 (#3) → Zhai2024c\n"
     ]
    }
   ],
   "source": [
    "# 在写文件前处理重复 key\n",
    "def dedup_bib_keys(bib_entries):\n",
    "    \"\"\"\n",
    "    检查 BibTeX 字符串列表中的重复 key。\n",
    "    - 如果某个 key 只出现一次，则保持不变；\n",
    "    - 如果同 key 出现多次，则第1篇加 a，后续加 b/c/d/...；\n",
    "    \"\"\"\n",
    "    import re\n",
    "    from collections import defaultdict\n",
    "\n",
    "    pattern = re.compile(r'(@\\w+\\s*\\{\\s*)([^,\\s]+)', flags=re.MULTILINE)\n",
    "    all_keys = []\n",
    "    key_counts = defaultdict(int)\n",
    "\n",
    "    # 先收集所有 key 出现次数\n",
    "    for entry in bib_entries:\n",
    "        m = pattern.search(entry)\n",
    "        if m:\n",
    "            key = m.group(2)\n",
    "            key_counts[key] += 1\n",
    "            all_keys.append(key)\n",
    "\n",
    "    # 再进行改名\n",
    "    used_indices = defaultdict(int)\n",
    "    deduped_entries = []\n",
    "\n",
    "    for entry in bib_entries:\n",
    "        m = pattern.search(entry)\n",
    "        if not m:\n",
    "            deduped_entries.append(entry)\n",
    "            continue\n",
    "\n",
    "        prefix, key = m.group(1), m.group(2)\n",
    "        count = key_counts[key]\n",
    "        if count == 1:\n",
    "            # ✅ 仅一篇，不改名\n",
    "            deduped_entries.append(entry)\n",
    "        else:\n",
    "            # ✅ 多篇情况：第1篇 -> a，第2篇 -> b ...\n",
    "            used_indices[key] += 1\n",
    "            suffix_index = used_indices[key]\n",
    "            suffix = chr(96 + suffix_index)  # 1→a, 2→b, ...\n",
    "            new_key = f\"{key}{suffix}\"\n",
    "            print(f\"[dedup] {key} (#{suffix_index}) → {new_key}\")\n",
    "            new_entry = pattern.sub(f\"{prefix}{new_key}\", entry, count=1)\n",
    "            deduped_entries.append(new_entry)\n",
    "\n",
    "    return deduped_entries\n",
    "\n",
    "# 去重处理\n",
    "citations = dedup_bib_keys(citations)"
   ]
  },
  {
   "cell_type": "code",
   "execution_count": 22,
   "id": "ad763df9-261f-41f3-bc32-00921d0a4e11",
   "metadata": {},
   "outputs": [],
   "source": [
    "with open('output.bib', 'w') as bibfile:\n",
    "    for citation in citations:\n",
    "        bibfile.write(citation)\n",
    "        bibfile.write('\\n')"
   ]
  }
 ],
 "metadata": {
  "kernelspec": {
   "display_name": "zxy",
   "language": "python",
   "name": "python3"
  },
  "language_info": {
   "codemirror_mode": {
    "name": "ipython",
    "version": 3
   },
   "file_extension": ".py",
   "mimetype": "text/x-python",
   "name": "python",
   "nbconvert_exporter": "python",
   "pygments_lexer": "ipython3",
   "version": "3.12.4"
  }
 },
 "nbformat": 4,
 "nbformat_minor": 5
}
